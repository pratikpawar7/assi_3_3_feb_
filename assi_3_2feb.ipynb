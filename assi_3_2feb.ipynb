{
 "cells": [
  {
   "cell_type": "code",
   "execution_count": null,
   "id": "43063d74-662f-41f0-a022-833dbaf18c11",
   "metadata": {},
   "outputs": [],
   "source": [
    "# Que1 : charateristics of the tuple \n",
    "'''\n",
    "1. tuple are immutable\n",
    "2. tuple are order\n",
    "3. tuple are indexed\n",
    "4. tuple are contain duplicate item \n",
    "\n",
    "''' yes tuple is immutable"
   ]
  },
  {
   "cell_type": "code",
   "execution_count": 5,
   "id": "e4a0056f-6079-49af-92b0-c58649ce0eaa",
   "metadata": {},
   "outputs": [
    {
     "name": "stdout",
     "output_type": "stream",
     "text": [
      "3\n",
      "4\n"
     ]
    }
   ],
   "source": [
    "'''\n",
    "Que2 : What are the two tuple methods in python? Give an example of each method. Give a reason why\n",
    "tuples have only two in-built methods as compared to Lists.\n",
    "'''\n",
    "\n",
    "'''\n",
    "There is only two types of the method in the tuple is index() , count() '''\n",
    "\n",
    "tu1 = (1,2,3,4,5,6,7)\n",
    "print(tu1.index(4))\n",
    "\n",
    "tu2 =(1,1,2,3,6,45,4,5,6,3,4,5,6,7,8,6,9)\n",
    "co  = tu2.count(6)\n",
    "print(co)\n",
    "\n",
    "'''\n",
    "Tuples are allocated large blocks of memory with lower overhead \n",
    "than lists because they are immutable; whereas for lists, small memory blocks are allocated."
   ]
  },
  {
   "cell_type": "code",
   "execution_count": 15,
   "id": "43c3fc37-c59a-40f7-9d3b-bf39f7efd861",
   "metadata": {},
   "outputs": [
    {
     "data": {
      "text/plain": [
       "{1, 2, 3, 4}"
      ]
     },
     "execution_count": 15,
     "metadata": {},
     "output_type": "execute_result"
    }
   ],
   "source": [
    "''' \n",
    "Que3 : which colllection database in the python do not allow dublicate item in the list \n",
    "         write a code using set to remove a dublicate from the set \n",
    "        '''\n",
    "\n",
    "# set database is used for the remove of the dublilcate from the list \n",
    "\n",
    "List = [1, 1, 1, 2, 1, 3, 1, 4, 2, 1, 2, 2, 2, 3, 2, 4, 3, 1, 3, 2, 3, 3, 3, 4, 4, 1, 4, 2, 4, 3, 4, 4]\n",
    "set(List)"
   ]
  },
  {
   "cell_type": "code",
   "execution_count": 19,
   "id": "4dde0b06-00c5-4136-99c1-2f4b512b6bc6",
   "metadata": {},
   "outputs": [
    {
     "name": "stdout",
     "output_type": "stream",
     "text": [
      "{1, 2, 3, 4, 5, 6, 7, 33, 66, 11, 44, 77, 22, 55}\n",
      "None\n"
     ]
    }
   ],
   "source": [
    "'''\n",
    "Que4: explain the difference between update() and union() method in the set \n",
    "    give an example \n",
    "    '''\n",
    "'''update() adds all missing elements to the set on which it is called whereas set. \n",
    "    union() creates a new set'''\n",
    "\n",
    "set1 = {1,2,3,4,5,6,7}\n",
    "set2 = {11,22,33,44,55,66,77}\n",
    "print(set1.union(set2))\n",
    "\n",
    "set3 = {1,2,3,4,5,6,7,11,22,33,44}\n",
    "set4 = {11,22,33,44,55,66,77}\n",
    "print(set4.update(set3))"
   ]
  },
  {
   "cell_type": "code",
   "execution_count": null,
   "id": "7a39bad9-1be5-4aff-b747-8d2841c1e191",
   "metadata": {},
   "outputs": [],
   "source": [
    "'''\n",
    "Que5 : what is dictonary give an example of the what is order and unorder\n",
    "\n",
    "Dictonary - is a collection of key value pair \n",
    "\n",
    "ordered, it means that the items have a defined order, and that order will not change.\n",
    "order example - list , tuple , string \n",
    "\n",
    "\n",
    "Unordered means that the items does not have a defined order, you cannot refer to an item by using an index.\n",
    "unordered example = set and dictonary \n",
    "\n",
    "'''\n",
    "\n"
   ]
  },
  {
   "cell_type": "code",
   "execution_count": 26,
   "id": "33a15012-0b90-4f2f-aa21-d87636f81bec",
   "metadata": {},
   "outputs": [
    {
     "data": {
      "text/plain": [
       "{'gautam '}"
      ]
     },
     "execution_count": 26,
     "metadata": {},
     "output_type": "execute_result"
    }
   ],
   "source": [
    "'''Que 6 :can we create a nested dictionary give a one level example '''\n",
    "\n",
    "# yes, we can create a nested dictionary in the python\n",
    "marks = {90:\"pratik\" , 85:{80:{\"parth\"}, 82:{\"gautam \"}, 83:{\"vaishnvi\"}}}\n",
    "marks[85][82]"
   ]
  },
  {
   "cell_type": "code",
   "execution_count": 12,
   "id": "e510ac11-0657-4e04-ae26-bd8045d2717f",
   "metadata": {},
   "outputs": [
    {
     "name": "stdout",
     "output_type": "stream",
     "text": [
      "{'language': 'Python', 'course': 'Data Science Masters', 'topics': \"['Python', 'Machine Learning’, 'Deep Learning']\"}\n"
     ]
    }
   ],
   "source": [
    "'''Que 7 : Using setdefault() method, create key named topics in the given dictionary and also add the value of\n",
    "the key as this list\n",
    "['Python', 'Machine Learning’, 'Deep Learning']'''\n",
    "\n",
    "dict1 = {'language' : 'Python', 'course': 'Data Science Masters'}\n",
    "\n",
    "x = dict1.setdefault(\"topics\" ,\"['Python', 'Machine Learning’, 'Deep Learning']\")\n",
    "\n",
    "print(dict1)\n",
    "\n"
   ]
  },
  {
   "cell_type": "code",
   "execution_count": 16,
   "id": "72b90815-981f-4ea4-ae49-cc2f682c2e77",
   "metadata": {},
   "outputs": [
    {
     "name": "stdout",
     "output_type": "stream",
     "text": [
      "dict_values(['Cricket', ['India', 'Australia', 'England', 'South Africa', 'Sri Lanka', 'New Zealand']])\n",
      "dict_keys(['Sport', 'Teams'])\n",
      "dict_items([('Sport', 'Cricket'), ('Teams', ['India', 'Australia', 'England', 'South Africa', 'Sri Lanka', 'New Zealand'])])\n"
     ]
    }
   ],
   "source": [
    "'''Que 8:What are the three view objects in dictionaries? Use the three in-built methods in python to display\n",
    "these three view objects for the given dictionary.'''\n",
    "\n",
    "# main 3 view objects in dictonary are key , value , item  \n",
    "\n",
    "dict1 = {'Sport': 'Cricket' , 'Teams': ['India', 'Australia', 'England', 'South Africa', 'Sri Lanka', 'New Zealand']}\n",
    "\n",
    "\n",
    "print(dict1.values())\n",
    "print(dict1.keys())\n",
    "print(dict1.items())\n",
    "\n",
    "\n",
    "\n"
   ]
  },
  {
   "cell_type": "code",
   "execution_count": null,
   "id": "c8961748-57c5-4af9-be3c-bb18ffd4e6f6",
   "metadata": {},
   "outputs": [],
   "source": []
  },
  {
   "cell_type": "code",
   "execution_count": null,
   "id": "397a0878-946d-4294-bea3-411e4d2c460e",
   "metadata": {},
   "outputs": [],
   "source": []
  }
 ],
 "metadata": {
  "kernelspec": {
   "display_name": "Python 3 (ipykernel)",
   "language": "python",
   "name": "python3"
  },
  "language_info": {
   "codemirror_mode": {
    "name": "ipython",
    "version": 3
   },
   "file_extension": ".py",
   "mimetype": "text/x-python",
   "name": "python",
   "nbconvert_exporter": "python",
   "pygments_lexer": "ipython3",
   "version": "3.10.8"
  }
 },
 "nbformat": 4,
 "nbformat_minor": 5
}
